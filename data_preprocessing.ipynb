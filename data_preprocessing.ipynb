{
 "cells": [
  {
   "cell_type": "code",
   "execution_count": null,
   "metadata": {},
   "outputs": [],
   "source": [
    "import pandas as pd\n",
    "import json\n",
    "\n",
    "fda_data = r'drug-ndc-0001-of-0001.json\\drug-ndc-0001-of-0001.json'\n",
    "\n",
    "smiles_from_clin_tri = r\"resolved_smiles.txt\"\n",
    "\n",
    "# used to find extra smiles data based on fda own unii identifier\n",
    "unii_records = r'UNII_Data_20240622\\UNII_Records_22Jun2024.txt'\n",
    "\n",
    "\n",
    "\n",
    "with open(fda_data, 'r', encoding='utf-8') as file:\n",
    "    json_data = json.load(file)\n",
    "\n",
    "results = json_data.get('results', [])\n",
    "\n",
    "fda_drugs = pd.json_normalize(results)\n",
    "\n",
    "\n",
    "clinical_trials = pd.read_csv(smiles_from_clin_tri, sep = \"\\t\", header = None)\n",
    "clinical_trials.rename(columns = {0: \"name\", 1: \"SMILES\"}, inplace = True)\n",
    "\n",
    "\n",
    "unii_lookup_df = pd.read_csv(unii_records, delimiter='\\t')\n",
    "\n",
    "\n"
   ]
  },
  {
   "cell_type": "code",
   "execution_count": null,
   "metadata": {},
   "outputs": [],
   "source": [
    "fda_drugs['FDA_Approval'] = 0\n",
    "\n",
    "# same as removing yellow and red highlighted marketing status from the project\n",
    "fda_drugs.loc[fda_drugs['application_number'].notnull(), 'FDA_Approval'] = 1\n"
   ]
  },
  {
   "cell_type": "code",
   "execution_count": null,
   "metadata": {},
   "outputs": [],
   "source": [
    "\n",
    "fda_drugs['original_drug_id'] = fda_drugs.index\n",
    "\n",
    "# splits multiple drugs into separate rows\n",
    "df_single_drugs = fda_drugs.explode('openfda.unii')"
   ]
  },
  {
   "cell_type": "code",
   "execution_count": null,
   "metadata": {},
   "outputs": [],
   "source": [
    "\n",
    "sparse_single_drug_data = df_single_drugs[['marketing_start_date', \"marketing_category\", \"original_drug_id\", 'FDA_Approval', 'openfda.unii']]\n",
    "\n",
    "sparse_single_drug_data.rename(columns={'openfda.unii': 'unii'}, inplace=True)"
   ]
  },
  {
   "cell_type": "code",
   "execution_count": null,
   "metadata": {},
   "outputs": [],
   "source": [
    "\n",
    "\n",
    "unii_lookup_df.rename(columns={'UNII': 'unii'}, inplace=True)\n",
    "\n",
    "\n",
    "unii_lookup_df = unii_lookup_df[['unii', 'SMILES']]\n",
    "\n",
    "\n",
    "fda_extended = pd.merge(sparse_single_drug_data, unii_lookup_df, on='unii', how='left')\n",
    "\n",
    "fda_extended\n",
    "\n",
    "fda_extended[\"unii\"].value_counts()"
   ]
  },
  {
   "cell_type": "code",
   "execution_count": null,
   "metadata": {},
   "outputs": [],
   "source": [
    "fda_extended[\"unii\"].value_counts()"
   ]
  },
  {
   "cell_type": "code",
   "execution_count": null,
   "metadata": {},
   "outputs": [],
   "source": [
    "# only smiles of length 3 or more are valid, couldnt be converted later to graph\n",
    "fda_extended['smiles_length'] = fda_extended['SMILES'].str.len()\n",
    "\n",
    "fda_extended = fda_extended[fda_extended['smiles_length'] >= 3]\n",
    "\n",
    "fda_extended = fda_extended.drop(columns=['smiles_length'])\n",
    "\n",
    "fda_extended = fda_extended.dropna(subset=['SMILES'])\n",
    "\n",
    "fda_extended.sort_values(by=['marketing_start_date'], inplace=True)\n",
    "\n",
    "# removes duplicates based on marketing start date and unii, first one is kept based on time\n",
    "fda_extended.drop_duplicates(subset=['unii'], keep=\"first\", inplace=True)\n",
    "\n",
    "\n"
   ]
  },
  {
   "cell_type": "code",
   "execution_count": 59,
   "metadata": {},
   "outputs": [],
   "source": [
    "# if marketing_category is BLA drop row\n",
    "fda_extended = fda_extended[fda_extended['marketing_category'] != 'BLA']\n",
    "\n",
    "# drop marketing_category column\n",
    "fda_extended = fda_extended.drop(columns=['marketing_category'])"
   ]
  },
  {
   "cell_type": "code",
   "execution_count": null,
   "metadata": {},
   "outputs": [],
   "source": [
    "# final merge with clinical trials data\n",
    "\n",
    "new_rows = []\n",
    "for i in clinical_trials[\"SMILES\"]:\n",
    "    if i not in fda_extended[\"SMILES\"].values:\n",
    "        new_rows.append({\"SMILES\": i, \"FDA_Approval\": 0})\n",
    "\n",
    "if new_rows:\n",
    "    final_df = pd.concat([fda_extended, pd.DataFrame(new_rows)], ignore_index=True)"
   ]
  },
  {
   "cell_type": "code",
   "execution_count": null,
   "metadata": {},
   "outputs": [],
   "source": [
    "final_df.to_csv('Finished_data.csv', index=False)"
   ]
  }
 ],
 "metadata": {
  "kernelspec": {
   "display_name": "Graph_cuda",
   "language": "python",
   "name": "python3"
  },
  "language_info": {
   "codemirror_mode": {
    "name": "ipython",
    "version": 3
   },
   "file_extension": ".py",
   "mimetype": "text/x-python",
   "name": "python",
   "nbconvert_exporter": "python",
   "pygments_lexer": "ipython3",
   "version": "3.9.20"
  }
 },
 "nbformat": 4,
 "nbformat_minor": 2
}
